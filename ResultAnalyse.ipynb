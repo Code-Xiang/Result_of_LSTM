{
 "cells": [
  {
   "cell_type": "code",
   "execution_count": 1,
   "id": "6de667b1",
   "metadata": {},
   "outputs": [],
   "source": [
    "import pandas as pd\n",
    "import numpy as np"
   ]
  },
  {
   "cell_type": "code",
   "execution_count": 11,
   "id": "7d6ae033",
   "metadata": {},
   "outputs": [],
   "source": [
    "LS_data_RF_1 = pd.DataFrame([])\n",
    "for ret_year in range(1993,2020):  \n",
    "    ret = pd.read_csv('results-Intraday-240-1-RF/avg_daily_rets-'+str(ret_year)+'.csv')\n",
    "    LS = ret.mean()\n",
    "#     print(LS)\n",
    "    LS = pd.Series(LS,name = str(ret_year))\n",
    "    LS_data_RF_1 = LS_data_RF_1.append(LS)"
   ]
  },
  {
   "cell_type": "code",
   "execution_count": 12,
   "id": "ecc72193",
   "metadata": {},
   "outputs": [
    {
     "data": {
      "text/plain": [
       "Long     0.001465\n",
       "Short    0.000830\n",
       "dtype: float64"
      ]
     },
     "execution_count": 12,
     "metadata": {},
     "output_type": "execute_result"
    }
   ],
   "source": [
    "LS_data_RF_1.mean()"
   ]
  },
  {
   "cell_type": "code",
   "execution_count": null,
   "id": "6b43f979",
   "metadata": {},
   "outputs": [],
   "source": [
    "LS_data_RF_3 = pd.DataFrame([])\n",
    "for ret_year in range(1993,2020):  \n",
    "    ret = pd.read_csv('results-Intraday-240-3-RF/avg_daily_rets-'+str(ret_year)+'.csv')\n",
    "    LS = ret.mean()\n",
    "#     print(LS)\n",
    "    LS = pd.Series(LS,name = str(ret_year))\n",
    "    LS_data_RF_3 = LS_data_RF_3.append(LS)"
   ]
  },
  {
   "cell_type": "code",
   "execution_count": null,
   "id": "780a68ff",
   "metadata": {},
   "outputs": [],
   "source": [
    "LS_data_RF_3.mean()"
   ]
  },
  {
   "cell_type": "code",
   "execution_count": null,
   "id": "91cb0864",
   "metadata": {},
   "outputs": [],
   "source": [
    "LS_data_RF_NextDay_1 = pd.DataFrame([])\n",
    "for ret_year in range(1993,2020):  \n",
    "    ret = pd.read_csv('results-NextDay-240-1-RF/avg_daily_rets-'+str(ret_year)+'.csv')\n",
    "    LS = ret.mean()\n",
    "#     print(LS)`\n",
    "    LS = pd.Series(LS,name = str(ret_year))\n",
    "    LS_data_RF_NextDay_1 = LS_data_RF_NextDay_1.append(LS)"
   ]
  },
  {
   "cell_type": "code",
   "execution_count": null,
   "id": "e8cd32d6",
   "metadata": {},
   "outputs": [],
   "source": [
    "LS_data_RF_NextDay_1.mean()"
   ]
  },
  {
   "cell_type": "code",
   "execution_count": 3,
   "id": "17226127",
   "metadata": {},
   "outputs": [],
   "source": [
    "results_Intraday_240_3_LSTM = pd.DataFrame([])\n",
    "for ret_year in range(1993,2020):  \n",
    "    ret = pd.read_csv('results-Intraday-240-3-LSTM/avg_daily_rets-'+str(ret_year)+'.csv')\n",
    "    LS = ret.mean()\n",
    "#     print(LS)\n",
    "    LS = pd.Series(LS,name = str(ret_year))\n",
    "    results_Intraday_240_3_LSTM = results_Intraday_240_3_LSTM.append(LS)"
   ]
  },
  {
   "cell_type": "code",
   "execution_count": 4,
   "id": "fde1b66f",
   "metadata": {},
   "outputs": [
    {
     "data": {
      "text/plain": [
       "Long     0.006316\n",
       "Short    0.004083\n",
       "dtype: float64"
      ]
     },
     "execution_count": 4,
     "metadata": {},
     "output_type": "execute_result"
    }
   ],
   "source": [
    "results_Intraday_240_3_LSTM.mean()"
   ]
  },
  {
   "cell_type": "code",
   "execution_count": 5,
   "id": "3d1fb530",
   "metadata": {},
   "outputs": [],
   "source": [
    "results_Intraday_240_1_LSTM = pd.DataFrame([])\n",
    "for ret_year in range(1993,2020):  \n",
    "    ret = pd.read_csv('results-Intraday-240-1-LSTM/avg_daily_rets-'+str(ret_year)+'.csv')\n",
    "    LS = ret.mean()\n",
    "#     print(LS)\n",
    "    LS = pd.Series(LS,name = str(ret_year))\n",
    "    results_Intraday_240_1_LSTM = results_Intraday_240_1_LSTM.append(LS)"
   ]
  },
  {
   "cell_type": "code",
   "execution_count": 6,
   "id": "fc0ad8db",
   "metadata": {},
   "outputs": [
    {
     "data": {
      "text/plain": [
       "Long     0.001682\n",
       "Short    0.000786\n",
       "dtype: float64"
      ]
     },
     "execution_count": 6,
     "metadata": {},
     "output_type": "execute_result"
    }
   ],
   "source": [
    "results_Intraday_240_1_LSTM.mean()"
   ]
  },
  {
   "cell_type": "code",
   "execution_count": 8,
   "id": "16db63ce",
   "metadata": {},
   "outputs": [],
   "source": [
    "results_NextDay_240_1_LSTM = pd.DataFrame([])\n",
    "for ret_year in range(1993,2020):  \n",
    "    ret = pd.read_csv('results-NextDay-240-1-LSTM/avg_daily_rets-'+str(ret_year)+'.csv')\n",
    "    LS = ret.mean()\n",
    "#     print(LS)\n",
    "    LS = pd.Series(LS,name = str(ret_year))\n",
    "    results_NextDay_240_1_LSTM = results_NextDay_240_1_LSTM.append(LS)"
   ]
  },
  {
   "cell_type": "code",
   "execution_count": 9,
   "id": "792fa190",
   "metadata": {},
   "outputs": [
    {
     "data": {
      "text/plain": [
       "Long     0.003720\n",
       "Short    0.000931\n",
       "dtype: float64"
      ]
     },
     "execution_count": 9,
     "metadata": {},
     "output_type": "execute_result"
    }
   ],
   "source": [
    "results_NextDay_240_1_LSTM.mean()"
   ]
  }
 ],
 "metadata": {
  "kernelspec": {
   "display_name": "Python 3",
   "language": "python",
   "name": "python3"
  },
  "language_info": {
   "codemirror_mode": {
    "name": "ipython",
    "version": 3
   },
   "file_extension": ".py",
   "mimetype": "text/x-python",
   "name": "python",
   "nbconvert_exporter": "python",
   "pygments_lexer": "ipython3",
   "version": "3.6.13"
  }
 },
 "nbformat": 4,
 "nbformat_minor": 5
}
