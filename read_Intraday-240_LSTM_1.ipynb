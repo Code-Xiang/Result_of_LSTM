{
 "cells": [
  {
   "cell_type": "code",
   "execution_count": 1,
   "metadata": {},
   "outputs": [],
   "source": [
    "import pandas as pd\n",
    "import numpy as np\n",
    "import random\n",
    "import time\n",
    "import pickle\n",
    "from sklearn.preprocessing import OneHotEncoder\n",
    "from sklearn.preprocessing import RobustScaler\n",
    "from Statistics import Statistics\n",
    "\n",
    "import tensorflow as tf\n",
    "from tensorflow.compat.v1.keras.layers import CuDNNLSTM, Dropout,Dense,Input,add,LSTM\n",
    "from tensorflow.keras.callbacks import EarlyStopping, ModelCheckpoint, ReduceLROnPlateau, CSVLogger, LearningRateScheduler\n",
    "from tensorflow.keras.models import Model, Sequential, load_model\n",
    "from tensorflow.keras import optimizers\n",
    "import os\n",
    "import warnings\n",
    "warnings.filterwarnings(\"ignore\")"
   ]
  },
  {
   "cell_type": "code",
   "execution_count": 2,
   "metadata": {},
   "outputs": [],
   "source": [
    "model_folder = 'models-Intraday-240-1-LSTM'\n",
    "result_folder = 'results-Intraday-240-1-LSTM'\n",
    "for directory in [model_folder,result_folder]:\n",
    "    if not os.path.exists(directory):\n",
    "        os.makedirs(directory)\n"
   ]
  },
  {
   "cell_type": "code",
   "execution_count": 3,
   "metadata": {},
   "outputs": [],
   "source": [
    "SP500_df = pd.read_csv('data/SPXconst.csv')\n",
    "all_companies = list(set(SP500_df.values.flatten()))\n",
    "all_companies.remove(np.nan)"
   ]
  },
  {
   "cell_type": "code",
   "execution_count": 4,
   "metadata": {},
   "outputs": [],
   "source": [
    "constituents = {'-'.join(col.split('/')[::-1]):set(SP500_df[col].dropna()) \n",
    "                for col in SP500_df.columns}\n",
    "constituents_train = {} \n",
    "for test_year in range(1993,2016):\n",
    "    months = [str(t)+'-0'+str(m) if m<10 else str(t)+'-'+str(m) \n",
    "              for t in range(test_year-3,test_year) for m in range(1,13)]\n",
    "    constituents_train[test_year] = [list(constituents[m]) for m in months]\n",
    "    constituents_train[test_year] = set([i for sublist in constituents_train[test_year] \n",
    "                                         for i in sublist])"
   ]
  },
  {
   "cell_type": "code",
   "execution_count": 8,
   "metadata": {},
   "outputs": [],
   "source": [
    "def callbacks_req(model_type='LSTM'):\n",
    "    csv_logger = CSVLogger(model_folder+'/training-log-'+model_type+'-'+str(test_year)+'.csv')\n",
    "    filepath = model_folder+\"/model-\" + model_type + '-' + str(test_year) + \"-E{epoch:02d}.h5\"\n",
    "    model_checkpoint = ModelCheckpoint(filepath, monitor='val_loss',save_best_only=False, save_freq=1)\n",
    "    earlyStopping = EarlyStopping(monitor='val_loss',mode='min',patience=10,restore_best_weights=True)\n",
    "    # monitor:监控的数据接口\n",
    "    # 因为monitor='val_loss'，所以mode要min\n",
    "    # patience 能够容忍多少个epoch内都没有improvement\n",
    "    # restore_best_weights：是否从具有检测数据的最佳值的时期恢复模型权重。如果为False，则使用在训练的最后一步获得的模型权重\n",
    "    return [csv_logger,earlyStopping,model_checkpoint]\n",
    "def makeLSTM():\n",
    "    inputs = Input(shape=(240,1))\n",
    "    # return_sequences默认为false,此时返回一个hidden state的值，如果input数据包含多个时间步，则这个\n",
    "    # hidden state 最后一个时间步的结果\n",
    "    x = CuDNNLSTM(25,return_sequences=False)(inputs)\n",
    "    x = Dropout(0.1)(x)\n",
    "    outputs = Dense(2,activation='softmax')(x)\n",
    "    model = Model(inputs=inputs, outputs=outputs)\n",
    "    model.compile(loss='categorical_crossentropy',optimizer=optimizers.RMSprop(),\n",
    "                        metrics=['accuracy'])\n",
    "    model.summary()\n",
    "    return model\n",
    "def create_label(df_open,df_close,perc=[0.5,0.5]):\n",
    "    if not np.all(df_close.iloc[:,0]==df_open.iloc[:,0]):\n",
    "        print('Date Index issue')\n",
    "        return\n",
    "    perc = [0.]+list(np.cumsum(perc))\n",
    "    label = (df_close.iloc[:,1:]/df_open.iloc[:,1:]-1).apply(\n",
    "            lambda x: pd.qcut(x.rank(method='first'),perc,labels=False), axis=1)\n",
    "    return label[1:]\n",
    "def create_stock_data(df_open,df_close,st,m=240):\n",
    "    st_data = pd.DataFrame([])\n",
    "    st_data['Date'] = list(df_close['Date'])\n",
    "    st_data['Name'] = [st]*len(st_data)\n",
    "    daily_change = df_close[st]/df_open[st]-1\n",
    "    for k in range(m)[::-1]:\n",
    "        st_data['IntraR'+str(k)] = daily_change.shift(k)\n",
    "\n",
    "    st_data['IntraR-future'] = daily_change.shift(-1)  # 将后一天赋值给当前的日期  \n",
    "    st_data['label'] = list(label[st])+[np.nan] #最后一个加一个nan\n",
    "    st_data['Month'] = list(df_close['Date'].str[:-3]) # 去掉后面的天，留月份\n",
    "    st_data = st_data.dropna()\n",
    "    \n",
    "    trade_year = st_data['Month'].str[:4] # 取年份\n",
    "    st_data = st_data.drop(columns=['Month'])\n",
    "    st_train_data = st_data[trade_year<str(test_year)] # 交易年份小于测试年份的都是训练年份\n",
    "    st_test_data = st_data[trade_year==str(test_year)] # 交易年份是测试年份的则是测试年份\n",
    "    return np.array(st_train_data),np.array(st_test_data)\n",
    "def scalar_normalize(train_data,test_data):\n",
    "    scaler = RobustScaler()\n",
    "    scaler.fit(train_data[:,2:-2])\n",
    "    train_data[:,2:-2] = scaler.transform(train_data[:,2:-2])\n",
    "    test_data[:,2:-2] = scaler.transform(test_data[:,2:-2])\n",
    "def trained(filename,train_data,test_data):\n",
    "    model = load_model(filename)\n",
    "    dates = list(set(test_data[:,0]))\n",
    "    predictions = {}\n",
    "    for day in dates:\n",
    "        test_d = test_data[test_data[:,0]==day]\n",
    "        test_d = np.reshape(test_d[:,2:-2],(len(test_d),240,1))\n",
    "        predictions[day] = model.predict(test_d)[:,1]\n",
    "    return model,predictions\n",
    "\n",
    "def simulate(test_data,predictions):\n",
    "    rets = pd.DataFrame([],columns=['Long','Short'])\n",
    "    k = 10\n",
    "    for day in sorted(predictions.keys()):\n",
    "        preds = predictions[day]\n",
    "        test_returns = test_data[test_data[:,0]==day][:,-2]\n",
    "        top_preds = predictions[day].argsort()[-k:][::-1] \n",
    "        # argsort(),表示对数据进行从小到大进行排序，返回数据的索引值\n",
    "        # [::-1] 表示对数组a进行从大到小排序，返回索引值\n",
    "        trans_long = test_returns[top_preds]\n",
    "        worst_preds = predictions[day].argsort()[:k][::-1] \n",
    "        trans_short = -test_returns[worst_preds]\n",
    "        rets.loc[day] = [np.mean(trans_long),np.mean(trans_short)] \n",
    "    print('Result : ',rets.mean())  \n",
    "    return rets      "
   ]
  },
  {
   "cell_type": "code",
   "execution_count": 9,
   "metadata": {},
   "outputs": [
    {
     "name": "stdout",
     "output_type": "stream",
     "text": [
      "(130174, 244) (70019, 244) 24.4351806640625\n"
     ]
    }
   ],
   "source": [
    "test_year = 1993\n",
    "model_filename = \"models-Intraday-240-1-LSTM/model-LSTM-1993-E45.h5\"\n",
    "filename = 'data/Open-'+str(test_year-3)+'.csv'\n",
    "df_open = pd.read_csv(filename)\n",
    "filename = 'data/Close-'+str(test_year-3)+'.csv'\n",
    "df_close = pd.read_csv(filename)\n",
    "colums_open = df_open.columns\n",
    "df_open[colums_open] = df_open[colums_open].replace(0,np.nan)\n",
    "colums_close = df_open.columns\n",
    "df_open[colums_close] = df_open[colums_close].replace(0,np.nan)\n",
    "label = create_label(df_open,df_close)\n",
    "stock_names = sorted(list(constituents[str(test_year-1)+'-12']))\n",
    "train_data,test_data = [],[]\n",
    "\n",
    "start = time.time()\n",
    "for st in stock_names:\n",
    "    st_train_data,st_test_data = create_stock_data(df_open,df_close,st)\n",
    "    train_data.append(st_train_data)\n",
    "    test_data.append(st_test_data)\n",
    "\n",
    "train_data = np.concatenate([x for x in train_data])\n",
    "test_data = np.concatenate([x for x in test_data])\n",
    "# 标准化\n",
    "scalar_normalize(train_data,test_data)\n",
    "print(train_data.shape,test_data.shape,time.time()-start)\n",
    "\n"
   ]
  },
  {
   "cell_type": "code",
   "execution_count": 10,
   "metadata": {},
   "outputs": [
    {
     "ename": "ValueError",
     "evalue": "Unknown layer: Functional",
     "output_type": "error",
     "traceback": [
      "\u001b[0;31m---------------------------------------------------------------------------\u001b[0m",
      "\u001b[0;31mValueError\u001b[0m                                Traceback (most recent call last)",
      "\u001b[0;32m<ipython-input-10-042bd95a1f26>\u001b[0m in \u001b[0;36m<module>\u001b[0;34m\u001b[0m\n\u001b[0;32m----> 1\u001b[0;31m \u001b[0mmodel\u001b[0m\u001b[0;34m,\u001b[0m\u001b[0mpredictions\u001b[0m \u001b[0;34m=\u001b[0m \u001b[0mtrained\u001b[0m\u001b[0;34m(\u001b[0m\u001b[0mmodel_filename\u001b[0m\u001b[0;34m,\u001b[0m\u001b[0mtrain_data\u001b[0m\u001b[0;34m,\u001b[0m\u001b[0mtest_data\u001b[0m\u001b[0;34m)\u001b[0m\u001b[0;34m\u001b[0m\u001b[0;34m\u001b[0m\u001b[0m\n\u001b[0m\u001b[1;32m      2\u001b[0m \u001b[0mreturns\u001b[0m \u001b[0;34m=\u001b[0m \u001b[0msimulate\u001b[0m\u001b[0;34m(\u001b[0m\u001b[0mtest_data\u001b[0m\u001b[0;34m,\u001b[0m\u001b[0mpredictions\u001b[0m\u001b[0;34m)\u001b[0m\u001b[0;34m\u001b[0m\u001b[0;34m\u001b[0m\u001b[0m\n",
      "\u001b[0;32m<ipython-input-8-06f3ca297cf1>\u001b[0m in \u001b[0;36mtrained\u001b[0;34m(filename, train_data, test_data)\u001b[0m\n\u001b[1;32m     53\u001b[0m     \u001b[0mtest_data\u001b[0m\u001b[0;34m[\u001b[0m\u001b[0;34m:\u001b[0m\u001b[0;34m,\u001b[0m\u001b[0;36m2\u001b[0m\u001b[0;34m:\u001b[0m\u001b[0;34m-\u001b[0m\u001b[0;36m2\u001b[0m\u001b[0;34m]\u001b[0m \u001b[0;34m=\u001b[0m \u001b[0mscaler\u001b[0m\u001b[0;34m.\u001b[0m\u001b[0mtransform\u001b[0m\u001b[0;34m(\u001b[0m\u001b[0mtest_data\u001b[0m\u001b[0;34m[\u001b[0m\u001b[0;34m:\u001b[0m\u001b[0;34m,\u001b[0m\u001b[0;36m2\u001b[0m\u001b[0;34m:\u001b[0m\u001b[0;34m-\u001b[0m\u001b[0;36m2\u001b[0m\u001b[0;34m]\u001b[0m\u001b[0;34m)\u001b[0m\u001b[0;34m\u001b[0m\u001b[0;34m\u001b[0m\u001b[0m\n\u001b[1;32m     54\u001b[0m \u001b[0;32mdef\u001b[0m \u001b[0mtrained\u001b[0m\u001b[0;34m(\u001b[0m\u001b[0mfilename\u001b[0m\u001b[0;34m,\u001b[0m\u001b[0mtrain_data\u001b[0m\u001b[0;34m,\u001b[0m\u001b[0mtest_data\u001b[0m\u001b[0;34m)\u001b[0m\u001b[0;34m:\u001b[0m\u001b[0;34m\u001b[0m\u001b[0;34m\u001b[0m\u001b[0m\n\u001b[0;32m---> 55\u001b[0;31m     \u001b[0mmodel\u001b[0m \u001b[0;34m=\u001b[0m \u001b[0mload_model\u001b[0m\u001b[0;34m(\u001b[0m\u001b[0mfilename\u001b[0m\u001b[0;34m)\u001b[0m\u001b[0;34m\u001b[0m\u001b[0;34m\u001b[0m\u001b[0m\n\u001b[0m\u001b[1;32m     56\u001b[0m     \u001b[0mdates\u001b[0m \u001b[0;34m=\u001b[0m \u001b[0mlist\u001b[0m\u001b[0;34m(\u001b[0m\u001b[0mset\u001b[0m\u001b[0;34m(\u001b[0m\u001b[0mtest_data\u001b[0m\u001b[0;34m[\u001b[0m\u001b[0;34m:\u001b[0m\u001b[0;34m,\u001b[0m\u001b[0;36m0\u001b[0m\u001b[0;34m]\u001b[0m\u001b[0;34m)\u001b[0m\u001b[0;34m)\u001b[0m\u001b[0;34m\u001b[0m\u001b[0;34m\u001b[0m\u001b[0m\n\u001b[1;32m     57\u001b[0m     \u001b[0mpredictions\u001b[0m \u001b[0;34m=\u001b[0m \u001b[0;34m{\u001b[0m\u001b[0;34m}\u001b[0m\u001b[0;34m\u001b[0m\u001b[0;34m\u001b[0m\u001b[0m\n",
      "\u001b[0;32m~/opt/anaconda3/envs/Deep-Learning-with-TensorFlow-book-master/lib/python3.6/site-packages/tensorflow_core/python/keras/saving/save.py\u001b[0m in \u001b[0;36mload_model\u001b[0;34m(filepath, custom_objects, compile)\u001b[0m\n\u001b[1;32m    144\u001b[0m   if (h5py is not None and (\n\u001b[1;32m    145\u001b[0m       isinstance(filepath, h5py.File) or h5py.is_hdf5(filepath))):\n\u001b[0;32m--> 146\u001b[0;31m     \u001b[0;32mreturn\u001b[0m \u001b[0mhdf5_format\u001b[0m\u001b[0;34m.\u001b[0m\u001b[0mload_model_from_hdf5\u001b[0m\u001b[0;34m(\u001b[0m\u001b[0mfilepath\u001b[0m\u001b[0;34m,\u001b[0m \u001b[0mcustom_objects\u001b[0m\u001b[0;34m,\u001b[0m \u001b[0mcompile\u001b[0m\u001b[0;34m)\u001b[0m\u001b[0;34m\u001b[0m\u001b[0;34m\u001b[0m\u001b[0m\n\u001b[0m\u001b[1;32m    147\u001b[0m \u001b[0;34m\u001b[0m\u001b[0m\n\u001b[1;32m    148\u001b[0m   \u001b[0;32mif\u001b[0m \u001b[0misinstance\u001b[0m\u001b[0;34m(\u001b[0m\u001b[0mfilepath\u001b[0m\u001b[0;34m,\u001b[0m \u001b[0msix\u001b[0m\u001b[0;34m.\u001b[0m\u001b[0mstring_types\u001b[0m\u001b[0;34m)\u001b[0m\u001b[0;34m:\u001b[0m\u001b[0;34m\u001b[0m\u001b[0;34m\u001b[0m\u001b[0m\n",
      "\u001b[0;32m~/opt/anaconda3/envs/Deep-Learning-with-TensorFlow-book-master/lib/python3.6/site-packages/tensorflow_core/python/keras/saving/hdf5_format.py\u001b[0m in \u001b[0;36mload_model_from_hdf5\u001b[0;34m(filepath, custom_objects, compile)\u001b[0m\n\u001b[1;32m    166\u001b[0m     \u001b[0mmodel_config\u001b[0m \u001b[0;34m=\u001b[0m \u001b[0mjson\u001b[0m\u001b[0;34m.\u001b[0m\u001b[0mloads\u001b[0m\u001b[0;34m(\u001b[0m\u001b[0mmodel_config\u001b[0m\u001b[0;34m.\u001b[0m\u001b[0mdecode\u001b[0m\u001b[0;34m(\u001b[0m\u001b[0;34m'utf-8'\u001b[0m\u001b[0;34m)\u001b[0m\u001b[0;34m)\u001b[0m\u001b[0;34m\u001b[0m\u001b[0;34m\u001b[0m\u001b[0m\n\u001b[1;32m    167\u001b[0m     model = model_config_lib.model_from_config(model_config,\n\u001b[0;32m--> 168\u001b[0;31m                                                custom_objects=custom_objects)\n\u001b[0m\u001b[1;32m    169\u001b[0m \u001b[0;34m\u001b[0m\u001b[0m\n\u001b[1;32m    170\u001b[0m     \u001b[0;31m# set weights\u001b[0m\u001b[0;34m\u001b[0m\u001b[0;34m\u001b[0m\u001b[0;34m\u001b[0m\u001b[0m\n",
      "\u001b[0;32m~/opt/anaconda3/envs/Deep-Learning-with-TensorFlow-book-master/lib/python3.6/site-packages/tensorflow_core/python/keras/saving/model_config.py\u001b[0m in \u001b[0;36mmodel_from_config\u001b[0;34m(config, custom_objects)\u001b[0m\n\u001b[1;32m     53\u001b[0m                     '`Sequential.from_config(config)`?')\n\u001b[1;32m     54\u001b[0m   \u001b[0;32mfrom\u001b[0m \u001b[0mtensorflow\u001b[0m\u001b[0;34m.\u001b[0m\u001b[0mpython\u001b[0m\u001b[0;34m.\u001b[0m\u001b[0mkeras\u001b[0m\u001b[0;34m.\u001b[0m\u001b[0mlayers\u001b[0m \u001b[0;32mimport\u001b[0m \u001b[0mdeserialize\u001b[0m  \u001b[0;31m# pylint: disable=g-import-not-at-top\u001b[0m\u001b[0;34m\u001b[0m\u001b[0;34m\u001b[0m\u001b[0m\n\u001b[0;32m---> 55\u001b[0;31m   \u001b[0;32mreturn\u001b[0m \u001b[0mdeserialize\u001b[0m\u001b[0;34m(\u001b[0m\u001b[0mconfig\u001b[0m\u001b[0;34m,\u001b[0m \u001b[0mcustom_objects\u001b[0m\u001b[0;34m=\u001b[0m\u001b[0mcustom_objects\u001b[0m\u001b[0;34m)\u001b[0m\u001b[0;34m\u001b[0m\u001b[0;34m\u001b[0m\u001b[0m\n\u001b[0m\u001b[1;32m     56\u001b[0m \u001b[0;34m\u001b[0m\u001b[0m\n\u001b[1;32m     57\u001b[0m \u001b[0;34m\u001b[0m\u001b[0m\n",
      "\u001b[0;32m~/opt/anaconda3/envs/Deep-Learning-with-TensorFlow-book-master/lib/python3.6/site-packages/tensorflow_core/python/keras/layers/serialization.py\u001b[0m in \u001b[0;36mdeserialize\u001b[0;34m(config, custom_objects)\u001b[0m\n\u001b[1;32m    100\u001b[0m       \u001b[0mmodule_objects\u001b[0m\u001b[0;34m=\u001b[0m\u001b[0mglobs\u001b[0m\u001b[0;34m,\u001b[0m\u001b[0;34m\u001b[0m\u001b[0;34m\u001b[0m\u001b[0m\n\u001b[1;32m    101\u001b[0m       \u001b[0mcustom_objects\u001b[0m\u001b[0;34m=\u001b[0m\u001b[0mcustom_objects\u001b[0m\u001b[0;34m,\u001b[0m\u001b[0;34m\u001b[0m\u001b[0;34m\u001b[0m\u001b[0m\n\u001b[0;32m--> 102\u001b[0;31m       printable_module_name='layer')\n\u001b[0m",
      "\u001b[0;32m~/opt/anaconda3/envs/Deep-Learning-with-TensorFlow-book-master/lib/python3.6/site-packages/tensorflow_core/python/keras/utils/generic_utils.py\u001b[0m in \u001b[0;36mdeserialize_keras_object\u001b[0;34m(identifier, module_objects, custom_objects, printable_module_name)\u001b[0m\n\u001b[1;32m    178\u001b[0m     \u001b[0mconfig\u001b[0m \u001b[0;34m=\u001b[0m \u001b[0midentifier\u001b[0m\u001b[0;34m\u001b[0m\u001b[0;34m\u001b[0m\u001b[0m\n\u001b[1;32m    179\u001b[0m     (cls, cls_config) = class_and_config_for_serialized_keras_object(\n\u001b[0;32m--> 180\u001b[0;31m         config, module_objects, custom_objects, printable_module_name)\n\u001b[0m\u001b[1;32m    181\u001b[0m \u001b[0;34m\u001b[0m\u001b[0m\n\u001b[1;32m    182\u001b[0m     \u001b[0;32mif\u001b[0m \u001b[0mhasattr\u001b[0m\u001b[0;34m(\u001b[0m\u001b[0mcls\u001b[0m\u001b[0;34m,\u001b[0m \u001b[0;34m'from_config'\u001b[0m\u001b[0;34m)\u001b[0m\u001b[0;34m:\u001b[0m\u001b[0;34m\u001b[0m\u001b[0;34m\u001b[0m\u001b[0m\n",
      "\u001b[0;32m~/opt/anaconda3/envs/Deep-Learning-with-TensorFlow-book-master/lib/python3.6/site-packages/tensorflow_core/python/keras/utils/generic_utils.py\u001b[0m in \u001b[0;36mclass_and_config_for_serialized_keras_object\u001b[0;34m(config, module_objects, custom_objects, printable_module_name)\u001b[0m\n\u001b[1;32m    163\u001b[0m     \u001b[0mcls\u001b[0m \u001b[0;34m=\u001b[0m \u001b[0mmodule_objects\u001b[0m\u001b[0;34m.\u001b[0m\u001b[0mget\u001b[0m\u001b[0;34m(\u001b[0m\u001b[0mclass_name\u001b[0m\u001b[0;34m)\u001b[0m\u001b[0;34m\u001b[0m\u001b[0;34m\u001b[0m\u001b[0m\n\u001b[1;32m    164\u001b[0m     \u001b[0;32mif\u001b[0m \u001b[0mcls\u001b[0m \u001b[0;32mis\u001b[0m \u001b[0;32mNone\u001b[0m\u001b[0;34m:\u001b[0m\u001b[0;34m\u001b[0m\u001b[0;34m\u001b[0m\u001b[0m\n\u001b[0;32m--> 165\u001b[0;31m       \u001b[0;32mraise\u001b[0m \u001b[0mValueError\u001b[0m\u001b[0;34m(\u001b[0m\u001b[0;34m'Unknown '\u001b[0m \u001b[0;34m+\u001b[0m \u001b[0mprintable_module_name\u001b[0m \u001b[0;34m+\u001b[0m \u001b[0;34m': '\u001b[0m \u001b[0;34m+\u001b[0m \u001b[0mclass_name\u001b[0m\u001b[0;34m)\u001b[0m\u001b[0;34m\u001b[0m\u001b[0;34m\u001b[0m\u001b[0m\n\u001b[0m\u001b[1;32m    166\u001b[0m   \u001b[0;32mreturn\u001b[0m \u001b[0;34m(\u001b[0m\u001b[0mcls\u001b[0m\u001b[0;34m,\u001b[0m \u001b[0mconfig\u001b[0m\u001b[0;34m[\u001b[0m\u001b[0;34m'config'\u001b[0m\u001b[0;34m]\u001b[0m\u001b[0;34m)\u001b[0m\u001b[0;34m\u001b[0m\u001b[0;34m\u001b[0m\u001b[0m\n\u001b[1;32m    167\u001b[0m \u001b[0;34m\u001b[0m\u001b[0m\n",
      "\u001b[0;31mValueError\u001b[0m: Unknown layer: Functional"
     ]
    }
   ],
   "source": [
    "# tf 2.5 py 3.8 \n",
    "model,predictions = trained(model_filename,train_data,test_data)\n",
    "returns = simulate(test_data,predictions)"
   ]
  },
  {
   "cell_type": "code",
   "execution_count": 7,
   "metadata": {},
   "outputs": [
    {
     "ename": "NameError",
     "evalue": "name 'returns' is not defined",
     "output_type": "error",
     "traceback": [
      "\u001b[0;31m---------------------------------------------------------------------------\u001b[0m",
      "\u001b[0;31mNameError\u001b[0m                                 Traceback (most recent call last)",
      "\u001b[0;32m<ipython-input-7-36a7304af396>\u001b[0m in \u001b[0;36m<module>\u001b[0;34m\u001b[0m\n\u001b[0;32m----> 1\u001b[0;31m \u001b[0mreturns\u001b[0m\u001b[0;34m\u001b[0m\u001b[0;34m\u001b[0m\u001b[0m\n\u001b[0m",
      "\u001b[0;31mNameError\u001b[0m: name 'returns' is not defined"
     ]
    }
   ],
   "source": []
  },
  {
   "cell_type": "raw",
   "metadata": {},
   "source": [
    "    "
   ]
  },
  {
   "cell_type": "code",
   "execution_count": null,
   "metadata": {},
   "outputs": [],
   "source": [
    "for test_year in range(1993,2020):\n",
    "    \n",
    "    print('-'*40)\n",
    "    print(test_year)\n",
    "    print('-'*40)\n",
    "    \n",
    "    filename = 'data/Open-'+str(test_year-3)+'.csv'\n",
    "    df_open = pd.read_csv(filename)\n",
    "    filename = 'data/Close-'+str(test_year-3)+'.csv'\n",
    "    df_close = pd.read_csv(filename)\n",
    "    colums_open = df_open.columns\n",
    "    df_open[colums_open] = df_open[colums_open].replace(0,np.nan)\n",
    "    colums_close = df_open.columns\n",
    "    df_open[colums_close] = df_open[colums_close].replace(0,np.nan)\n",
    "    label = create_label(df_open,df_close)\n",
    "    stock_names = sorted(list(constituents[str(test_year-1)+'-12']))\n",
    "    train_data,test_data = [],[]\n",
    "\n",
    "    start = time.time()\n",
    "    for st in stock_names:\n",
    "        st_train_data,st_test_data = create_stock_data(df_open,df_close,st)\n",
    "        train_data.append(st_train_data)\n",
    "        test_data.append(st_test_data)\n",
    "        \n",
    "    train_data = np.concatenate([x for x in train_data])\n",
    "    test_data = np.concatenate([x for x in test_data])\n",
    "    # 标准化\n",
    "    scalar_normalize(train_data,test_data)\n",
    "    print(train_data.shape,test_data.shape,time.time()-start)\n",
    "    \n",
    "    model,predictions = trained(train_data,test_data)\n",
    "    # 模拟？\n",
    "    returns = simulate(test_data,predictions)\n",
    "    returns.to_csv(result_folder+'/avg_daily_rets-'+str(test_year)+'.csv')\n",
    "    \n",
    "    result = Statistics(returns.sum(axis=1))\n",
    "    print('\\nAverage returns prior to transaction charges')\n",
    "    result.report()\n",
    "    \n",
    "    with open(result_folder+\"/avg_returns.txt\", \"a\") as myfile:\n",
    "        res = '-'*30 + '\\n'\n",
    "        res += str(test_year) + '\\n'\n",
    "        res += 'Mean = ' + str(result.mean()) + '\\n'\n",
    "        res += 'Sharpe = '+str(result.sharpe()) + '\\n'\n",
    "        res += 'std = '+str(result.std()) + '\\n'\n",
    "        res += 'Standard Error = '+str(result.stderr()) + '\\n'\n",
    "        res += 'Share>0 = '+str(result.pos_perc()) + '\\n'\n",
    "        res += 'Skewness = '+str(result.skewness()) + '\\n'\n",
    "        res += 'Kurtosis = '+str(result.kurtosis()) + '\\n'\n",
    "        res += 'VaR_1 = '+str(result.VaR(1)) + '\\n'\n",
    "        res += 'VaR_2 = '+str(result.VaR(2)) + '\\n'\n",
    "        res += 'VaR_5 = '+str(result.VaR(5)) + '\\n'\n",
    "        res += 'CVaR_1 = '+str(result.CVaR(1)) + '\\n'\n",
    "        res += 'CVaR_2 = '+str(result.CVaR(2)) + '\\n'\n",
    "        res += 'CVaR_5 = '+str(result.CVaR(5)) + '\\n'\n",
    "        res += 'MDD = '+str(result.MDD()) + '\\n'\n",
    "        \n",
    "        res += '-'*30 + '\\n'\n",
    "        myfile.write(res)\n",
    "        "
   ]
  },
  {
   "cell_type": "code",
   "execution_count": null,
   "metadata": {},
   "outputs": [],
   "source": []
  },
  {
   "cell_type": "code",
   "execution_count": null,
   "metadata": {},
   "outputs": [],
   "source": []
  },
  {
   "cell_type": "code",
   "execution_count": null,
   "metadata": {},
   "outputs": [],
   "source": []
  },
  {
   "cell_type": "code",
   "execution_count": null,
   "metadata": {},
   "outputs": [],
   "source": []
  },
  {
   "cell_type": "code",
   "execution_count": null,
   "metadata": {
    "scrolled": true
   },
   "outputs": [],
   "source": [
    "test_year = 1993\n",
    "# for test_year in range(1993,2020):\n",
    "#     print('-'*40)\n",
    "#     print(test_year)\n",
    "#     print('-'*40)\n",
    "filename = 'data/Open-'+str(test_year-3)+'.csv'\n",
    "df_open = pd.read_csv(filename)\n",
    "filename = 'data/Close-'+str(test_year-3)+'.csv'\n",
    "df_close = pd.read_csv(filename)\n",
    "colums_open = df_open.columns\n",
    "df_open[colums_open] = df_open[colums_open].replace(0,np.nan)\n",
    "colums_close = df_open.columns\n",
    "df_open[colums_close] = df_open[colums_close].replace(0,np.nan)"
   ]
  },
  {
   "cell_type": "code",
   "execution_count": null,
   "metadata": {},
   "outputs": [],
   "source": [
    "label = create_label(df_open,df_close)"
   ]
  },
  {
   "cell_type": "code",
   "execution_count": null,
   "metadata": {},
   "outputs": [],
   "source": [
    "stock_names = sorted(list(constituents[str(test_year-1)+'-12']))"
   ]
  },
  {
   "cell_type": "code",
   "execution_count": null,
   "metadata": {},
   "outputs": [],
   "source": [
    "train_data,test_data = [],[]\n",
    "start = time.time()"
   ]
  },
  {
   "cell_type": "code",
   "execution_count": null,
   "metadata": {},
   "outputs": [],
   "source": [
    "for st in stock_names:\n",
    "        st_train_data,st_test_data = create_stock_data(df_open,df_close,st)\n",
    "        train_data.append(st_train_data)\n",
    "        test_data.append(st_test_data)"
   ]
  },
  {
   "cell_type": "code",
   "execution_count": null,
   "metadata": {},
   "outputs": [],
   "source": [
    "train_data = np.concatenate([x for x in train_data])\n",
    "test_data = np.concatenate([x for x in test_data])"
   ]
  },
  {
   "cell_type": "code",
   "execution_count": null,
   "metadata": {},
   "outputs": [],
   "source": [
    "scalar_normalize(train_data,test_data)"
   ]
  },
  {
   "cell_type": "code",
   "execution_count": null,
   "metadata": {},
   "outputs": [],
   "source": []
  },
  {
   "cell_type": "code",
   "execution_count": null,
   "metadata": {},
   "outputs": [],
   "source": []
  }
 ],
 "metadata": {
  "kernelspec": {
   "display_name": "Python 3",
   "language": "python",
   "name": "python3"
  },
  "language_info": {
   "codemirror_mode": {
    "name": "ipython",
    "version": 3
   },
   "file_extension": ".py",
   "mimetype": "text/x-python",
   "name": "python",
   "nbconvert_exporter": "python",
   "pygments_lexer": "ipython3",
   "version": "3.6.13"
  }
 },
 "nbformat": 4,
 "nbformat_minor": 4
}
